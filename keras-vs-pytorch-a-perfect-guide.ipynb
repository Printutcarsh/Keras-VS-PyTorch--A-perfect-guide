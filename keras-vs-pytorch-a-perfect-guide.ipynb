{
 "cells": [
  {
   "cell_type": "markdown",
   "metadata": {
    "papermill": {
     "duration": 0.015056,
     "end_time": "2020-08-28T12:03:43.083895",
     "exception": false,
     "start_time": "2020-08-28T12:03:43.068839",
     "status": "completed"
    },
    "tags": []
   },
   "source": [
    "![](https://deepsense.ai/wp-content/uploads/2019/02/Keras-or-PyTorch.png)\n"
   ]
  },
  {
   "cell_type": "markdown",
   "metadata": {
    "papermill": {
     "duration": 0.013098,
     "end_time": "2020-08-28T12:03:43.111851",
     "exception": false,
     "start_time": "2020-08-28T12:03:43.098753",
     "status": "completed"
    },
    "tags": []
   },
   "source": [
    "<h1 align=\"center\"> INTRODUCTION </h1>\n",
    "<hr>\n",
    "In this kernel I will talk about one of the most confusing questions that is, <b>Which Deep Learning Framework to use?</b> This questions usually comes to a beginner when he/she starts his/her journey in deep learning. Although it not only happens with beginners, sometimes others also get confused which to use. \n",
    "\n",
    "There are many deep learning framework options available like:-\n",
    "* CNTK\n",
    "* TensorFlow\n",
    "* Keras\n",
    "* DL4J\n",
    "* PyTorch\n",
    "* Lasagne\n",
    "* Mxnet\n",
    "\n",
    "And many more......\n",
    "\n",
    "But the most famous frameworks are TensorFlow, Keras and PyTorch. Out of these 3, here I will be comparing PyTorch and Keras in greater depth and with proper examples. So let's get started."
   ]
  },
  {
   "cell_type": "markdown",
   "metadata": {
    "papermill": {
     "duration": 0.013054,
     "end_time": "2020-08-28T12:03:43.138369",
     "exception": false,
     "start_time": "2020-08-28T12:03:43.125315",
     "status": "completed"
    },
    "tags": []
   },
   "source": [
    "# Table of Contents\n",
    "<ul style=\"list-style-type:square\">\n",
    "    <li><a href=\"#1\">Basic Information</a></li>\n",
    "    <li><a href=\"#2\">Factors for Comparison</a></li>\n",
    "    <li><a href=\"#4\">Importing Libraries</a></li>\n",
    "    <ul>\n",
    "        <li><a href=\"#4.1\">Importing Common Libraries</a></li>\n",
    "        <li><a href=\"#4.2\">Importing Keras Libraries</a></li>\n",
    "        <li><a href=\"#4.3\">Importing PyTorch Libraries</a></li>\n",
    "    </ul>\n",
    "    <li><a href=\"#5\">Comparison Based on ANN</a></li>\n",
    "     <ul>\n",
    "        <li><a href=\"#5.1\">Reading the Data</a></li>\n",
    "        <li><a href=\"#5.2\">Data Preparation</a></li>\n",
    "        <li><a href=\"#5.3\">ANN Model</a></li>\n",
    "        <li><a href=\"#5.4\">Optimizers</a></li>\n",
    "        <li><a href=\"#5.5\">Training</a></li>\n",
    "    </ul>\n",
    "    <li><a href=\"#6\">Comparison Based on CNN</a></li>\n",
    "     <ul>\n",
    "        <li><a href=\"#6.1\">Reading the Data</a></li>\n",
    "        <li><a href=\"#6.2\">Data Preparation</a></li>\n",
    "        <li><a href=\"#6.3\">CNN Model</a></li>\n",
    "        <li><a href=\"#6.4\">Optimizers</a></li>\n",
    "        <li><a href=\"#6.5\">Training</a></li>\n",
    "        <li><a href=\"#6.6\">Predicting on Test Set</a></li>\n",
    "    </ul>\n",
    "    <li><a href=\"#7\">When to use which?</a></li>\n",
    "    <li><a href=\"#8\">Bonus Part(Digit Recognizer)</a></li>\n",
    "    <li><a href=\"#9\">Ending Notes</a></li>\n",
    "</ul>"
   ]
  },
  {
   "cell_type": "markdown",
   "metadata": {
    "papermill": {
     "duration": 0.012973,
     "end_time": "2020-08-28T12:03:43.164571",
     "exception": false,
     "start_time": "2020-08-28T12:03:43.151598",
     "status": "completed"
    },
    "tags": []
   },
   "source": [
    "<a id='1'></a>\n",
    "# Basic Information\n",
    "\n",
    "Before getting deeper into the comparison, it is very important to know some general information.\n",
    "\n",
    "<b><font size = \"4.5em\">Keras :-</font></b> Actually Keras is not a framework on it's own. It sits on top of TensorFlow, Theano or CNTK.\n",
    "<br>\n",
    "<b><font size = \"4.5em\">PyTorch :-</font></b> On the other hand, PyTorch is a Deep Learning Framework developed by Facebook's AI research group."
   ]
  },
  {
   "cell_type": "markdown",
   "metadata": {
    "papermill": {
     "duration": 0.013295,
     "end_time": "2020-08-28T12:03:43.191264",
     "exception": false,
     "start_time": "2020-08-28T12:03:43.177969",
     "status": "completed"
    },
    "tags": []
   },
   "source": [
    "<a id='2'></a>\n",
    "# Factors for Comparison\n",
    "<b><h3>1. Level of API</h3></b>\n",
    "Keras has a high level of API as it is capable on running on top of the other frameworks. So it is easier to use and less code are needed.<br>\n",
    "PyTorch has a low level API and hence it becomes little difficult to use and more code is required for the similar task but it gives better control to the programmer.<br>\n",
    "You will clearly see the difference in the examples below.\n",
    "\n",
    "<b><h3>2. Speed</h3></b>\n",
    "Keras has comparitively less speed and is much slower than PyTorch. PyTorch has a very high speed due to which it is generally suitable for large datasets.\n",
    "\n",
    "<b><h3>3. Debugging</h3></b>\n",
    "Keras has very less debugging capabilites but PyTorch has very high debugging capabilities. One reason for that is as in PyTorch you have to write each and every step so you know the code properly and can debug the error easily but this is not so in the case of Keras.\n",
    "\n",
    "<b><h3>4. Ease of code</h3></b>\n",
    "As already told Keras has a high level API so we can do many jobs in just a single line of code and is very easy to read and understand.\n",
    "Whereas PyTorch consist many lines of code and it is comparitively difficult to understand.\n",
    "\n",
    "<b><h3>5. Community</h3></b>\n",
    "Keras has a small community support but the good news is you don't have to worry because there are lots of tutorials and solutions available in the net as many people start with the Keras only.\n",
    "PyTorch on the other hand has great community support and active development is going on.\n",
    "\n",
    "<b><h3>6. Popularity</h3></b>\n",
    "Although both these frameworks are very popular but still if we compare then Keras is much more popular than PyTorch."
   ]
  },
  {
   "cell_type": "markdown",
   "metadata": {
    "papermill": {
     "duration": 0.01343,
     "end_time": "2020-08-28T12:03:43.217967",
     "exception": false,
     "start_time": "2020-08-28T12:03:43.204537",
     "status": "completed"
    },
    "tags": []
   },
   "source": [
    "<img src=\"https://www.stickergiant.com/blog/wp-content/uploads/2017/10/Lets-Code-This-Home-Depot-Kiss-Cut-2017.jpg\" padding = \"2% 0\" width = \"500\" height = \"250\" border-radius = \"20%\">\n",
    "Don't worry if you don't get it because now we will dive deeper into the comparison and lets start coding to explain and verify each of the factors in detail.<br>\n",
    "Here I will be comparing these two frameworks by creating one <b>Artificial Neural Network(ANN) Model</b> and one <b>Convolutional Neural Network(CNN) Model</b>. "
   ]
  },
  {
   "cell_type": "markdown",
   "metadata": {
    "papermill": {
     "duration": 0.013176,
     "end_time": "2020-08-28T12:03:43.244393",
     "exception": false,
     "start_time": "2020-08-28T12:03:43.231217",
     "status": "completed"
    },
    "tags": []
   },
   "source": [
    "<a id='3'></a>\n",
    "In this kernel I will be using data from Titanic: Machine Learning from Disaster competition and Digit Recognizer competition of Kaggle for comparsion but here I will not explain each and every thing which is required for this competiton like data pre processing steps, EDA, and the exact models, I will only explain those things more which needs for comparison. Also please don't consider these models as the final models for these competitions as these are just demo models for comparison and will not give high accuracy.<br>\n",
    "But don't worry, I have created notebooks for these competitions which gives a high accuracy and all the steps are explained in great detail.\n",
    "<div class=\"row\">\n",
    "    <div class=\"col-sm-6\">\n",
    "    <div class = \"card\">\n",
    "      <div class = \"card-body\" style = \"width: 20rem; \">\n",
    "        <h5 class = \"card-title\"  style = \"font-size: 1.2em;\"align=\"center\">Full Explanation of CNN with high accuracy model</h5>\n",
    "          <img src=\"https://3qeqpr26caki16dnhd19sv6by6v-wpengine.netdna-ssl.com/wp-content/uploads/2019/02/Plot-of-a-Subset-of-Images-from-the-MNIST-Dataset.png\" class = \"card_img-top\" padding = \"2% 0\" width=\"140\" height = \"220\">\n",
    "        <p class=\"card-text\" style = \"font-size: 1.0em;text-align: center \"><b>Digit Recognizer: Detailed Explanation of CNN</b></p>\n",
    "        <a href = \"https://github.com/Printutcarsh/Digit-Recognizer-Detailed-Explanation-of-CNN/blob/main/digit-recognizer-detailed-explanation-of-cnn.ipynb\" class = \"btn btn-info btn-lg active\"  role = \"button\" style = \"color: white; margin: 0 15% 0 25%\" data-toggle = \"popover\" title = \"Click\">Click here</a>\n",
    "      </div>\n",
    "    </div>\n",
    "  </div>\n",
    "    <div class=\"col-sm-6\">\n",
    "      <div class=\"card\">\n",
    "        <div class=\"card-body\" style=\"width: 20rem;\">\n",
    "          <h5 class = \"card-title\"  style = \"font-size: 1.2em; \" align=\"center\" > Non Deep Learning Based method on Titanic Dataset </h5>\n",
    "            <img src = \"https://miro.medium.com/max/650/1*mzhf9OccFn7DeVHI9dPiLQ.jpeg\" class = \"card_img-top\" padding = \"2% 0\" width = \"200\" height = \"150\"  alt=\"...\">\n",
    "          <p class=\"card-text\" style = \"font-size: 1.0em;text-align: center \"><b>Titanic:Spark ML Magic + EDA & Feature Engineering</b></p>\n",
    "          <a href = \"https://www.kaggle.com/utcarshagrawal/titanic-spark-ml-magic-eda-feature-engineering\" class = \"btn btn-info btn-lg active\"  role = \"button\" style = \"color: white; margin: 0 15% 0 25%\" data-toggle = \"popover\" title = \"Click\">Click here</a>\n",
    "        </div>\n",
    "      </div>    \n",
    "    </div>\n",
    "   </div>    \n",
    "    "
   ]
  },
  {
   "cell_type": "markdown",
   "metadata": {
    "papermill": {
     "duration": 0.013042,
     "end_time": "2020-08-28T12:03:43.271271",
     "exception": false,
     "start_time": "2020-08-28T12:03:43.258229",
     "status": "completed"
    },
    "tags": []
   },
   "source": [
    "### Now the first step is to import the required libraries. Here I have separated libraries for Keras, PyTorch and some common libraries. "
   ]
  },
  {
   "cell_type": "markdown",
   "metadata": {
    "papermill": {
     "duration": 0.013117,
     "end_time": "2020-08-28T12:03:43.297597",
     "exception": false,
     "start_time": "2020-08-28T12:03:43.284480",
     "status": "completed"
    },
    "tags": []
   },
   "source": [
    "<a id = '4.1'></a> \n",
    "# Importing Common Libraries"
   ]
  },
  {
   "cell_type": "code",
   "execution_count": 1,
   "metadata": {
    "_cell_guid": "b1076dfc-b9ad-4769-8c92-a6c4dae69d19",
    "_uuid": "8f2839f25d086af736a60e9eeb907d3b93b6e0e5",
    "execution": {
     "iopub.execute_input": "2020-08-28T12:03:43.333642Z",
     "iopub.status.busy": "2020-08-28T12:03:43.333029Z",
     "iopub.status.idle": "2020-08-28T12:03:44.417821Z",
     "shell.execute_reply": "2020-08-28T12:03:44.416522Z"
    },
    "papermill": {
     "duration": 1.107129,
     "end_time": "2020-08-28T12:03:44.417939",
     "exception": false,
     "start_time": "2020-08-28T12:03:43.310810",
     "status": "completed"
    },
    "tags": []
   },
   "outputs": [],
   "source": [
    "import numpy as np \n",
    "import pandas as pd \n",
    "import os\n",
    "import matplotlib.pyplot as plt\n",
    "%matplotlib inline\n",
    "import seaborn as sns\n",
    "from sklearn.model_selection import train_test_split\n",
    "from sklearn.preprocessing import LabelBinarizer\n",
    "from sklearn.preprocessing import StandardScaler\n",
    "import numbers"
   ]
  },
  {
   "cell_type": "markdown",
   "metadata": {
    "papermill": {
     "duration": 0.013093,
     "end_time": "2020-08-28T12:03:44.444882",
     "exception": false,
     "start_time": "2020-08-28T12:03:44.431789",
     "status": "completed"
    },
    "tags": []
   },
   "source": [
    "<a id = '4.2'></a> \n",
    "## Importing Keras Libraries"
   ]
  },
  {
   "cell_type": "code",
   "execution_count": 2,
   "metadata": {
    "execution": {
     "iopub.execute_input": "2020-08-28T12:03:44.477627Z",
     "iopub.status.busy": "2020-08-28T12:03:44.476923Z",
     "iopub.status.idle": "2020-08-28T12:03:50.251935Z",
     "shell.execute_reply": "2020-08-28T12:03:50.251248Z"
    },
    "papermill": {
     "duration": 5.794028,
     "end_time": "2020-08-28T12:03:50.252066",
     "exception": false,
     "start_time": "2020-08-28T12:03:44.458038",
     "status": "completed"
    },
    "tags": []
   },
   "outputs": [],
   "source": [
    "from keras.models import Sequential\n",
    "from keras.layers import Dense, Dropout, Flatten, Conv2D, MaxPool2D, BatchNormalization\n",
    "from keras.optimizers import RMSprop, SGD\n",
    "from keras.preprocessing.image import ImageDataGenerator\n",
    "from keras.utils.np_utils import to_categorical"
   ]
  },
  {
   "cell_type": "markdown",
   "metadata": {
    "papermill": {
     "duration": 0.013573,
     "end_time": "2020-08-28T12:03:50.279988",
     "exception": false,
     "start_time": "2020-08-28T12:03:50.266415",
     "status": "completed"
    },
    "tags": []
   },
   "source": [
    "<a id = '4.3'></a> \n",
    "## Importing Pytorch Libraries"
   ]
  },
  {
   "cell_type": "code",
   "execution_count": 3,
   "metadata": {
    "execution": {
     "iopub.execute_input": "2020-08-28T12:03:50.318828Z",
     "iopub.status.busy": "2020-08-28T12:03:50.317972Z",
     "iopub.status.idle": "2020-08-28T12:03:52.095228Z",
     "shell.execute_reply": "2020-08-28T12:03:52.094583Z"
    },
    "papermill": {
     "duration": 1.801732,
     "end_time": "2020-08-28T12:03:52.095344",
     "exception": false,
     "start_time": "2020-08-28T12:03:50.293612",
     "status": "completed"
    },
    "tags": []
   },
   "outputs": [],
   "source": [
    "import torch\n",
    "import torch.nn as nn\n",
    "import torch.nn.functional as F\n",
    "import torch.optim as optim\n",
    "from torch.autograd import Variable\n",
    "from torch.utils.data import DataLoader, Dataset\n",
    "from torchvision import transforms\n",
    "from torchvision.utils import make_grid"
   ]
  },
  {
   "cell_type": "markdown",
   "metadata": {
    "papermill": {
     "duration": 0.013282,
     "end_time": "2020-08-28T12:03:52.122439",
     "exception": false,
     "start_time": "2020-08-28T12:03:52.109157",
     "status": "completed"
    },
    "tags": []
   },
   "source": [
    "<a id='5'></a>\n",
    "# 1. COMPARISON BASED ON ANN"
   ]
  },
  {
   "cell_type": "markdown",
   "metadata": {
    "papermill": {
     "duration": 0.013228,
     "end_time": "2020-08-28T12:03:52.149462",
     "exception": false,
     "start_time": "2020-08-28T12:03:52.136234",
     "status": "completed"
    },
    "tags": []
   },
   "source": [
    "<a id='5.1'></a>\n",
    "# Reading the data\n",
    "The next step is to read the data. As I told earlier I will be creating two models for comparison. The first is ANN Model for which I will be using Titanic: Machine Learning from Disaster competition data. Generally people prefer a non deep learning based approach for this dataset but deep learning based approach also works well.<br> \n",
    "For non deep learning based approach of this competition [go here](#3)."
   ]
  },
  {
   "cell_type": "code",
   "execution_count": 4,
   "metadata": {
    "execution": {
     "iopub.execute_input": "2020-08-28T12:03:52.186839Z",
     "iopub.status.busy": "2020-08-28T12:03:52.185993Z",
     "iopub.status.idle": "2020-08-28T12:03:52.203212Z",
     "shell.execute_reply": "2020-08-28T12:03:52.201924Z"
    },
    "papermill": {
     "duration": 0.04055,
     "end_time": "2020-08-28T12:03:52.203312",
     "exception": false,
     "start_time": "2020-08-28T12:03:52.162762",
     "status": "completed"
    },
    "tags": []
   },
   "outputs": [],
   "source": [
    "df1 = pd.read_csv(\"titanic/train.csv\")"
   ]
  },
  {
   "cell_type": "code",
   "execution_count": 5,
   "metadata": {
    "execution": {
     "iopub.execute_input": "2020-08-28T12:03:52.247993Z",
     "iopub.status.busy": "2020-08-28T12:03:52.247041Z",
     "iopub.status.idle": "2020-08-28T12:03:52.258871Z",
     "shell.execute_reply": "2020-08-28T12:03:52.259348Z"
    },
    "papermill": {
     "duration": 0.042492,
     "end_time": "2020-08-28T12:03:52.259460",
     "exception": false,
     "start_time": "2020-08-28T12:03:52.216968",
     "status": "completed"
    },
    "tags": []
   },
   "outputs": [
    {
     "data": {
      "text/html": [
       "<div>\n",
       "<style scoped>\n",
       "    .dataframe tbody tr th:only-of-type {\n",
       "        vertical-align: middle;\n",
       "    }\n",
       "\n",
       "    .dataframe tbody tr th {\n",
       "        vertical-align: top;\n",
       "    }\n",
       "\n",
       "    .dataframe thead th {\n",
       "        text-align: right;\n",
       "    }\n",
       "</style>\n",
       "<table border=\"1\" class=\"dataframe\">\n",
       "  <thead>\n",
       "    <tr style=\"text-align: right;\">\n",
       "      <th></th>\n",
       "      <th>PassengerId</th>\n",
       "      <th>Survived</th>\n",
       "      <th>Pclass</th>\n",
       "      <th>Name</th>\n",
       "      <th>Sex</th>\n",
       "      <th>Age</th>\n",
       "      <th>SibSp</th>\n",
       "      <th>Parch</th>\n",
       "      <th>Ticket</th>\n",
       "      <th>Fare</th>\n",
       "      <th>Cabin</th>\n",
       "      <th>Embarked</th>\n",
       "    </tr>\n",
       "  </thead>\n",
       "  <tbody>\n",
       "    <tr>\n",
       "      <th>0</th>\n",
       "      <td>1</td>\n",
       "      <td>0</td>\n",
       "      <td>3</td>\n",
       "      <td>Braund, Mr. Owen Harris</td>\n",
       "      <td>male</td>\n",
       "      <td>22.0</td>\n",
       "      <td>1</td>\n",
       "      <td>0</td>\n",
       "      <td>A/5 21171</td>\n",
       "      <td>7.2500</td>\n",
       "      <td>NaN</td>\n",
       "      <td>S</td>\n",
       "    </tr>\n",
       "    <tr>\n",
       "      <th>1</th>\n",
       "      <td>2</td>\n",
       "      <td>1</td>\n",
       "      <td>1</td>\n",
       "      <td>Cumings, Mrs. John Bradley (Florence Briggs Th...</td>\n",
       "      <td>female</td>\n",
       "      <td>38.0</td>\n",
       "      <td>1</td>\n",
       "      <td>0</td>\n",
       "      <td>PC 17599</td>\n",
       "      <td>71.2833</td>\n",
       "      <td>C85</td>\n",
       "      <td>C</td>\n",
       "    </tr>\n",
       "    <tr>\n",
       "      <th>2</th>\n",
       "      <td>3</td>\n",
       "      <td>1</td>\n",
       "      <td>3</td>\n",
       "      <td>Heikkinen, Miss. Laina</td>\n",
       "      <td>female</td>\n",
       "      <td>26.0</td>\n",
       "      <td>0</td>\n",
       "      <td>0</td>\n",
       "      <td>STON/O2. 3101282</td>\n",
       "      <td>7.9250</td>\n",
       "      <td>NaN</td>\n",
       "      <td>S</td>\n",
       "    </tr>\n",
       "    <tr>\n",
       "      <th>3</th>\n",
       "      <td>4</td>\n",
       "      <td>1</td>\n",
       "      <td>1</td>\n",
       "      <td>Futrelle, Mrs. Jacques Heath (Lily May Peel)</td>\n",
       "      <td>female</td>\n",
       "      <td>35.0</td>\n",
       "      <td>1</td>\n",
       "      <td>0</td>\n",
       "      <td>113803</td>\n",
       "      <td>53.1000</td>\n",
       "      <td>C123</td>\n",
       "      <td>S</td>\n",
       "    </tr>\n",
       "    <tr>\n",
       "      <th>4</th>\n",
       "      <td>5</td>\n",
       "      <td>0</td>\n",
       "      <td>3</td>\n",
       "      <td>Allen, Mr. William Henry</td>\n",
       "      <td>male</td>\n",
       "      <td>35.0</td>\n",
       "      <td>0</td>\n",
       "      <td>0</td>\n",
       "      <td>373450</td>\n",
       "      <td>8.0500</td>\n",
       "      <td>NaN</td>\n",
       "      <td>S</td>\n",
       "    </tr>\n",
       "  </tbody>\n",
       "</table>\n",
       "</div>"
      ],
      "text/plain": [
       "   PassengerId  Survived  Pclass  \\\n",
       "0            1         0       3   \n",
       "1            2         1       1   \n",
       "2            3         1       3   \n",
       "3            4         1       1   \n",
       "4            5         0       3   \n",
       "\n",
       "                                                Name     Sex   Age  SibSp  \\\n",
       "0                            Braund, Mr. Owen Harris    male  22.0      1   \n",
       "1  Cumings, Mrs. John Bradley (Florence Briggs Th...  female  38.0      1   \n",
       "2                             Heikkinen, Miss. Laina  female  26.0      0   \n",
       "3       Futrelle, Mrs. Jacques Heath (Lily May Peel)  female  35.0      1   \n",
       "4                           Allen, Mr. William Henry    male  35.0      0   \n",
       "\n",
       "   Parch            Ticket     Fare Cabin Embarked  \n",
       "0      0         A/5 21171   7.2500   NaN        S  \n",
       "1      0          PC 17599  71.2833   C85        C  \n",
       "2      0  STON/O2. 3101282   7.9250   NaN        S  \n",
       "3      0            113803  53.1000  C123        S  \n",
       "4      0            373450   8.0500   NaN        S  "
      ]
     },
     "execution_count": 5,
     "metadata": {},
     "output_type": "execute_result"
    }
   ],
   "source": [
    "df1.head()"
   ]
  },
  {
   "cell_type": "code",
   "execution_count": 6,
   "metadata": {
    "execution": {
     "iopub.execute_input": "2020-08-28T12:03:52.295228Z",
     "iopub.status.busy": "2020-08-28T12:03:52.294654Z",
     "iopub.status.idle": "2020-08-28T12:03:53.064543Z",
     "shell.execute_reply": "2020-08-28T12:03:53.065143Z"
    },
    "papermill": {
     "duration": 0.791476,
     "end_time": "2020-08-28T12:03:53.065321",
     "exception": false,
     "start_time": "2020-08-28T12:03:52.273845",
     "status": "completed"
    },
    "tags": []
   },
   "outputs": [
    {
     "data": {
      "image/png": "[encoded data removed]",
      "text/plain": [
       "<Figure size 1080x1080 with 5 Axes>"
      ]
     },
     "metadata": {
      "needs_background": "light"
     },
     "output_type": "display_data"
    }
   ],
   "source": [
    "val = ['Pclass', 'Sex', 'Embarked', 'SibSp', 'Parch']\n",
    "plt.figure(figsize=(15,15))\n",
    "plt.subplots_adjust(right=1.5)\n",
    "for i in range(5):\n",
    "    plt.subplot(2,3,i+1), sns.countplot(x=val[i], hue='Survived', data = df1)\n",
    "    plt.legend(['Not Survived', 'Survived'], loc='upper center', prop={'size': 10})\n",
    "    plt.title('Count of Survival in {} Feature'.format(val[i]), size=10, y=1.05)"
   ]
  },
  {
   "cell_type": "markdown",
   "metadata": {
    "papermill": {
     "duration": 0.014194,
     "end_time": "2020-08-28T12:03:53.095932",
     "exception": false,
     "start_time": "2020-08-28T12:03:53.081738",
     "status": "completed"
    },
    "tags": []
   },
   "source": [
    "### For more EDA of this dataset [click here](https://www.kaggle.com/utcarshagrawal/titanic-spark-ml-magic-eda-feature-engineering#Exploratory-Data-Analysis)."
   ]
  },
  {
   "cell_type": "markdown",
   "metadata": {
    "papermill": {
     "duration": 0.013948,
     "end_time": "2020-08-28T12:03:53.124148",
     "exception": false,
     "start_time": "2020-08-28T12:03:53.110200",
     "status": "completed"
    },
    "tags": []
   },
   "source": [
    "<a id='5.2'></a>\n",
    "# Data Preparation\n",
    "Before working on the model data preprocessing is one of the most important step. But preparing the data hugely depend on which type of framework you are using to create a model. There might be few steps which could be exactly same but there could be few different steps also.<br>\n",
    "As we cannot directly apply this data to predict whether the person survived or not, so we will do some data preparation but I will not do all the steps because I am not here interested in increasing the accuracy.<br> \n",
    "### If you want to see all the feature engineering steps with explanations [click here](https://www.kaggle.com/utcarshagrawal/titanic-spark-ml-magic-eda-feature-engineering#Feature-Engineering)."
   ]
  },
  {
   "cell_type": "code",
   "execution_count": 7,
   "metadata": {
    "execution": {
     "iopub.execute_input": "2020-08-28T12:03:53.165744Z",
     "iopub.status.busy": "2020-08-28T12:03:53.164731Z",
     "iopub.status.idle": "2020-08-28T12:03:53.178885Z",
     "shell.execute_reply": "2020-08-28T12:03:53.178422Z"
    },
    "papermill": {
     "duration": 0.040681,
     "end_time": "2020-08-28T12:03:53.178981",
     "exception": false,
     "start_time": "2020-08-28T12:03:53.138300",
     "status": "completed"
    },
    "tags": []
   },
   "outputs": [],
   "source": [
    "# Sex Encoding\n",
    "binar = LabelBinarizer().fit(df1.loc[:, \"Sex\"])\n",
    "df1[\"Sex\"] = binar.transform(df1[\"Sex\"])\n",
    "# Embarked Encoding\n",
    "df1[\"Embarked\"] = df1[\"Embarked\"].fillna('S')\n",
    "df_Embarked = pd.get_dummies(df1.Embarked)\n",
    "df1 = pd.concat([df1, df_Embarked], axis=1)\n",
    "#Family\n",
    "df1['Family'] = df1['SibSp'] + df1['Parch'] + 1\n",
    "df1['Alone'] = df1['Family'].apply(lambda x : 0 if x>1 else 1 )\n",
    "#Age\n",
    "df1['Age'] = df1['Age'].fillna(-0.5)"
   ]
  },
  {
   "cell_type": "code",
   "execution_count": 8,
   "metadata": {
    "execution": {
     "iopub.execute_input": "2020-08-28T12:03:53.215584Z",
     "iopub.status.busy": "2020-08-28T12:03:53.213727Z",
     "iopub.status.idle": "2020-08-28T12:03:53.218510Z",
     "shell.execute_reply": "2020-08-28T12:03:53.218013Z"
    },
    "papermill": {
     "duration": 0.025196,
     "end_time": "2020-08-28T12:03:53.218606",
     "exception": false,
     "start_time": "2020-08-28T12:03:53.193410",
     "status": "completed"
    },
    "tags": []
   },
   "outputs": [],
   "source": [
    "features = [\"Pclass\",\"Sex\", \"Age\", \"C\", \"Q\", \"S\", \"Alone\"]\n",
    "\n",
    "X_train = df1[features].values\n",
    "Y_train = df1[\"Survived\"].values"
   ]
  },
  {
   "cell_type": "code",
   "execution_count": 9,
   "metadata": {
    "execution": {
     "iopub.execute_input": "2020-08-28T12:03:53.251599Z",
     "iopub.status.busy": "2020-08-28T12:03:53.250986Z",
     "iopub.status.idle": "2020-08-28T12:03:53.255433Z",
     "shell.execute_reply": "2020-08-28T12:03:53.256007Z"
    },
    "papermill": {
     "duration": 0.023266,
     "end_time": "2020-08-28T12:03:53.256144",
     "exception": false,
     "start_time": "2020-08-28T12:03:53.232878",
     "status": "completed"
    },
    "tags": []
   },
   "outputs": [],
   "source": [
    "# Feature Scaling\n",
    "sc = StandardScaler()\n",
    "X_train = sc.fit_transform(X_train)"
   ]
  },
  {
   "cell_type": "markdown",
   "metadata": {
    "papermill": {
     "duration": 0.014505,
     "end_time": "2020-08-28T12:03:53.286069",
     "exception": false,
     "start_time": "2020-08-28T12:03:53.271564",
     "status": "completed"
    },
    "tags": []
   },
   "source": [
    "Here in this dataset all the pre processing steps are same for both Keras and PyTorch model. So we don't have anything to compare here but this doesn't always happen. In my next example, you will see the difference."
   ]
  },
  {
   "cell_type": "markdown",
   "metadata": {
    "papermill": {
     "duration": 0.014446,
     "end_time": "2020-08-28T12:03:53.315333",
     "exception": false,
     "start_time": "2020-08-28T12:03:53.300887",
     "status": "completed"
    },
    "tags": []
   },
   "source": [
    "<a id='5.3'></a>\n",
    "# ANN MODEL\n",
    "So we have applied all the steps and now its time to create our model. Here you will observe the difference clearly. First I will make a Keras model and then a PyTorch model."
   ]
  },
  {
   "cell_type": "markdown",
   "metadata": {
    "papermill": {
     "duration": 0.014774,
     "end_time": "2020-08-28T12:03:53.344788",
     "exception": false,
     "start_time": "2020-08-28T12:03:53.330014",
     "status": "completed"
    },
    "tags": []
   },
   "source": [
    "## ANN KERAS MODEL"
   ]
  },
  {
   "cell_type": "code",
   "execution_count": 10,
   "metadata": {
    "execution": {
     "iopub.execute_input": "2020-08-28T12:03:53.381473Z",
     "iopub.status.busy": "2020-08-28T12:03:53.380809Z",
     "iopub.status.idle": "2020-08-28T12:04:01.461864Z",
     "shell.execute_reply": "2020-08-28T12:04:01.462381Z"
    },
    "papermill": {
     "duration": 8.10297,
     "end_time": "2020-08-28T12:04:01.462531",
     "exception": false,
     "start_time": "2020-08-28T12:03:53.359561",
     "status": "completed"
    },
    "tags": []
   },
   "outputs": [],
   "source": [
    "model1 = Sequential()\n",
    "model1.add(Dense(100, input_dim=7, activation=\"relu\"))\n",
    "model1.add(Dropout(0.5))\n",
    "model1.add(Dense(200, activation=\"relu\"))\n",
    "model1.add(Dropout(0.5))\n",
    "model1.add(Dense(1, activation=\"sigmoid\"))"
   ]
  },
  {
   "cell_type": "markdown",
   "metadata": {
    "papermill": {
     "duration": 0.015306,
     "end_time": "2020-08-28T12:04:01.493775",
     "exception": false,
     "start_time": "2020-08-28T12:04:01.478469",
     "status": "completed"
    },
    "tags": []
   },
   "source": [
    "Here you can easily see how each and every step almost took just one line. This is the major advantage of Keras and if you know little bit about Keras models, then you will observe that it is not difficult to understand also. Now lets talk about PyTorch model."
   ]
  },
  {
   "cell_type": "markdown",
   "metadata": {
    "papermill": {
     "duration": 0.014613,
     "end_time": "2020-08-28T12:04:01.523391",
     "exception": false,
     "start_time": "2020-08-28T12:04:01.508778",
     "status": "completed"
    },
    "tags": []
   },
   "source": [
    "## ANN PYTORCH MODEL"
   ]
  },
  {
   "cell_type": "code",
   "execution_count": 11,
   "metadata": {
    "execution": {
     "iopub.execute_input": "2020-08-28T12:04:01.561418Z",
     "iopub.status.busy": "2020-08-28T12:04:01.560774Z",
     "iopub.status.idle": "2020-08-28T12:04:01.571743Z",
     "shell.execute_reply": "2020-08-28T12:04:01.571058Z"
    },
    "papermill": {
     "duration": 0.033663,
     "end_time": "2020-08-28T12:04:01.571850",
     "exception": false,
     "start_time": "2020-08-28T12:04:01.538187",
     "status": "completed"
    },
    "tags": []
   },
   "outputs": [],
   "source": [
    "class ANN(nn.Module):\n",
    "    def __init__(self):\n",
    "        super(ANN, self).__init__()\n",
    "        self.features = nn.Sequential(\n",
    "            nn.Linear(7,100),\n",
    "            nn.ReLU(inplace=True),\n",
    "            nn.Dropout(p=0.5),\n",
    "            nn.Linear(100,200),\n",
    "            nn.ReLU(inplace=True),\n",
    "            nn.Dropout(p=0.5),\n",
    "            nn.Linear(200,2),\n",
    "        )\n",
    "    def forward(self, x):\n",
    "        x = self.features(x)\n",
    "        \n",
    "        return x\n",
    "    \n",
    "model2 = ANN()"
   ]
  },
  {
   "cell_type": "markdown",
   "metadata": {
    "papermill": {
     "duration": 0.014293,
     "end_time": "2020-08-28T12:04:01.600765",
     "exception": false,
     "start_time": "2020-08-28T12:04:01.586472",
     "status": "completed"
    },
    "tags": []
   },
   "source": [
    "Here you can observe the difference clearly. Keras on one side is more easily readable and understandable than PyTorch. Both the models are exactly same (Dense layer in Keras is same as Linear layer in PyTorch, just names are different) rest all the parameters are same but syntax of both the models are hugely different. Although for beginners PyTorch initially might be difficult but once you start understanding then it will become your favourite framework. "
   ]
  },
  {
   "cell_type": "markdown",
   "metadata": {
    "papermill": {
     "duration": 0.014212,
     "end_time": "2020-08-28T12:04:01.629668",
     "exception": false,
     "start_time": "2020-08-28T12:04:01.615456",
     "status": "completed"
    },
    "tags": []
   },
   "source": [
    "<a id='5.4'></a>\n",
    "# Optimizers"
   ]
  },
  {
   "cell_type": "code",
   "execution_count": 12,
   "metadata": {
    "execution": {
     "iopub.execute_input": "2020-08-28T12:04:01.670978Z",
     "iopub.status.busy": "2020-08-28T12:04:01.670142Z",
     "iopub.status.idle": "2020-08-28T12:04:01.677570Z",
     "shell.execute_reply": "2020-08-28T12:04:01.677075Z"
    },
    "papermill": {
     "duration": 0.033576,
     "end_time": "2020-08-28T12:04:01.677665",
     "exception": false,
     "start_time": "2020-08-28T12:04:01.644089",
     "status": "completed"
    },
    "tags": []
   },
   "outputs": [],
   "source": [
    "#For Keras Model\n",
    "\n",
    "optimizer1 = SGD(lr = 0.01, momentum = 0.9)\n",
    "# Compiling our model\n",
    "model1.compile(optimizer = optimizer1, loss = 'binary_crossentropy', metrics = ['accuracy'])\n",
    "\n",
    "#For PyTorch Model\n",
    "\n",
    "# Define the optimier\n",
    "optimizer2 = torch.optim.SGD(model2.parameters(), lr=0.01)\n",
    "# Define our loss function\n",
    "criterion = nn.CrossEntropyLoss()"
   ]
  },
  {
   "cell_type": "markdown",
   "metadata": {
    "papermill": {
     "duration": 0.014544,
     "end_time": "2020-08-28T12:04:01.706726",
     "exception": false,
     "start_time": "2020-08-28T12:04:01.692182",
     "status": "completed"
    },
    "tags": []
   },
   "source": [
    "Here we are using SGD optimizer for both the models just the syntax is different. But in PyTorch we have to also define our loss function whereas in Keras we don't have to explicity define it but we write our loss function when we compile our Keras model."
   ]
  },
  {
   "cell_type": "code",
   "execution_count": 13,
   "metadata": {
    "execution": {
     "iopub.execute_input": "2020-08-28T12:04:01.739668Z",
     "iopub.status.busy": "2020-08-28T12:04:01.739044Z",
     "iopub.status.idle": "2020-08-28T12:04:01.742610Z",
     "shell.execute_reply": "2020-08-28T12:04:01.743559Z"
    },
    "papermill": {
     "duration": 0.02234,
     "end_time": "2020-08-28T12:04:01.743671",
     "exception": false,
     "start_time": "2020-08-28T12:04:01.721331",
     "status": "completed"
    },
    "tags": []
   },
   "outputs": [],
   "source": [
    "batch_size=64\n",
    "epochs=15"
   ]
  },
  {
   "cell_type": "markdown",
   "metadata": {
    "papermill": {
     "duration": 0.01451,
     "end_time": "2020-08-28T12:04:01.772796",
     "exception": false,
     "start_time": "2020-08-28T12:04:01.758286",
     "status": "completed"
    },
    "tags": []
   },
   "source": [
    "<a id='5.5'></a>\n",
    "## So we have completed all the pre processes. Now its time to train our model"
   ]
  },
  {
   "cell_type": "markdown",
   "metadata": {
    "papermill": {
     "duration": 0.147918,
     "end_time": "2020-08-28T12:04:01.935260",
     "exception": false,
     "start_time": "2020-08-28T12:04:01.787342",
     "status": "completed"
    },
    "tags": []
   },
   "source": [
    "The major difference in the code comes here. Training a Keras model is just a one line step and it is very simple as all the things will be printed automatically like loss, accuracy etc. But in PyTorch it is a long method. The advantage of this is you will know your code properly and understand better what the system is doing in the backend. Also you have to give print command to whatever you want to print in your own way."
   ]
  },
  {
   "cell_type": "code",
   "execution_count": 14,
   "metadata": {
    "execution": {
     "iopub.execute_input": "2020-08-28T12:04:01.994468Z",
     "iopub.status.busy": "2020-08-28T12:04:01.993517Z",
     "iopub.status.idle": "2020-08-28T12:04:04.237647Z",
     "shell.execute_reply": "2020-08-28T12:04:04.236981Z"
    },
    "papermill": {
     "duration": 2.27317,
     "end_time": "2020-08-28T12:04:04.237768",
     "exception": false,
     "start_time": "2020-08-28T12:04:01.964598",
     "status": "completed"
    },
    "tags": []
   },
   "outputs": [
    {
     "name": "stdout",
     "output_type": "stream",
     "text": [
      "Epoch 1/15\n",
      "14/14 - 0s - loss: 0.6944 - accuracy: 0.5533\n",
      "Epoch 2/15\n",
      "14/14 - 0s - loss: 0.6222 - accuracy: 0.6510\n",
      "Epoch 3/15\n",
      "14/14 - 0s - loss: 0.5545 - accuracy: 0.7486\n",
      "Epoch 4/15\n",
      "14/14 - 0s - loss: 0.5196 - accuracy: 0.7677\n",
      "Epoch 5/15\n",
      "14/14 - 0s - loss: 0.5134 - accuracy: 0.7520\n",
      "Epoch 6/15\n",
      "14/14 - 0s - loss: 0.5007 - accuracy: 0.7755\n",
      "Epoch 7/15\n",
      "14/14 - 0s - loss: 0.4781 - accuracy: 0.7924\n",
      "Epoch 8/15\n",
      "14/14 - 0s - loss: 0.4982 - accuracy: 0.7654\n",
      "Epoch 9/15\n",
      "14/14 - 0s - loss: 0.4827 - accuracy: 0.7733\n",
      "Epoch 10/15\n",
      "14/14 - 0s - loss: 0.4603 - accuracy: 0.7946\n",
      "Epoch 11/15\n",
      "14/14 - 0s - loss: 0.4673 - accuracy: 0.7879\n",
      "Epoch 12/15\n",
      "14/14 - 0s - loss: 0.4674 - accuracy: 0.7800\n",
      "Epoch 13/15\n",
      "14/14 - 0s - loss: 0.4739 - accuracy: 0.8002\n",
      "Epoch 14/15\n",
      "14/14 - 0s - loss: 0.4598 - accuracy: 0.8036\n",
      "Epoch 15/15\n",
      "14/14 - 0s - loss: 0.4635 - accuracy: 0.7767\n"
     ]
    },
    {
     "data": {
      "text/plain": [
       "<tensorflow.python.keras.callbacks.History at 0x7fde18ef9a50>"
      ]
     },
     "execution_count": 14,
     "metadata": {},
     "output_type": "execute_result"
    }
   ],
   "source": [
    "# Keras Model\n",
    "model1.fit(X_train, Y_train, batch_size = batch_size, epochs = epochs, verbose=2)"
   ]
  },
  {
   "cell_type": "code",
   "execution_count": 15,
   "metadata": {
    "execution": {
     "iopub.execute_input": "2020-08-28T12:04:04.288817Z",
     "iopub.status.busy": "2020-08-28T12:04:04.283007Z",
     "iopub.status.idle": "2020-08-28T12:04:04.741475Z",
     "shell.execute_reply": "2020-08-28T12:04:04.742306Z"
    },
    "papermill": {
     "duration": 0.487884,
     "end_time": "2020-08-28T12:04:04.742517",
     "exception": false,
     "start_time": "2020-08-28T12:04:04.254633",
     "status": "completed"
    },
    "tags": []
   },
   "outputs": [
    {
     "name": "stdout",
     "output_type": "stream",
     "text": [
      "Validation loss decreased (   inf ===> 0.648673)\n",
      "\n",
      "Epoch: 1 \tTrain Loss: 0.648673467496964 \tTrain Accuracy: 0.609375\n",
      "Validation loss decreased (0.648673 ===> 0.628502)\n",
      "\n",
      "Epoch: 2 \tTrain Loss: 0.6285023153348447 \tTrain Accuracy: 0.609375\n",
      "Validation loss decreased (0.628502 ===> 0.618467)\n",
      "\n",
      "Epoch: 3 \tTrain Loss: 0.6184673849247169 \tTrain Accuracy: 0.640625\n",
      "Validation loss decreased (0.618467 ===> 0.605392)\n",
      "\n",
      "Epoch: 4 \tTrain Loss: 0.6053916105454644 \tTrain Accuracy: 0.703125\n",
      "Validation loss decreased (0.605392 ===> 0.593245)\n",
      "\n",
      "Epoch: 5 \tTrain Loss: 0.5932448449369438 \tTrain Accuracy: 0.765625\n",
      "Validation loss decreased (0.593245 ===> 0.591078)\n",
      "\n",
      "Epoch: 6 \tTrain Loss: 0.59107762079477 \tTrain Accuracy: 0.765625\n",
      "Validation loss decreased (0.591078 ===> 0.568818)\n",
      "\n",
      "Epoch: 7 \tTrain Loss: 0.56881795406588 \tTrain Accuracy: 0.765625\n",
      "Validation loss decreased (0.568818 ===> 0.567992)\n",
      "\n",
      "Epoch: 8 \tTrain Loss: 0.5679916493740174 \tTrain Accuracy: 0.734375\n",
      "Validation loss decreased (0.567992 ===> 0.562576)\n",
      "\n",
      "Epoch: 9 \tTrain Loss: 0.5625761295534106 \tTrain Accuracy: 0.765625\n",
      "Validation loss decreased (0.562576 ===> 0.542500)\n",
      "\n",
      "Epoch: 10 \tTrain Loss: 0.5425001714126537 \tTrain Accuracy: 0.765625\n",
      "\n",
      "Epoch: 11 \tTrain Loss: 0.546240193980031 \tTrain Accuracy: 0.765625\n",
      "\n",
      "Epoch: 12 \tTrain Loss: 0.5462691678023021 \tTrain Accuracy: 0.734375\n",
      "Validation loss decreased (0.542500 ===> 0.532280)\n",
      "\n",
      "Epoch: 13 \tTrain Loss: 0.532279840611606 \tTrain Accuracy: 0.75\n",
      "Validation loss decreased (0.532280 ===> 0.522297)\n",
      "\n",
      "Epoch: 14 \tTrain Loss: 0.5222968754047488 \tTrain Accuracy: 0.71875\n",
      "Validation loss decreased (0.522297 ===> 0.519742)\n",
      "\n",
      "Epoch: 15 \tTrain Loss: 0.5197415677983881 \tTrain Accuracy: 0.734375\n"
     ]
    }
   ],
   "source": [
    "# PyTorch Model\n",
    "batch_no = len(X_train) // batch_size\n",
    "train_loss_plot, train_acc_plot = [], []\n",
    "train_loss = 0\n",
    "train_loss_min = np.Inf\n",
    "for epoch in range(epochs):\n",
    "    for i in range(batch_no):\n",
    "        start = i*batch_size\n",
    "        end = start+batch_size\n",
    "        x_ten = Variable(torch.FloatTensor(X_train[start:end]))\n",
    "        y_ten = Variable(torch.LongTensor(Y_train[start:end])) \n",
    "        \n",
    "        # Prevent accumulation of gradients\n",
    "        optimizer2.zero_grad()\n",
    "        # Make predictions\n",
    "        output = model2(x_ten)\n",
    "        loss = criterion(output,y_ten)\n",
    "        #backprop\n",
    "        loss.backward()\n",
    "        optimizer2.step()\n",
    "        \n",
    "        values, labels = torch.max(output, 1)\n",
    "        num_right = np.sum(labels.data.numpy() == Y_train[start:end])\n",
    "        train_loss += loss.item()*batch_size\n",
    "        \n",
    "    train_loss = train_loss / len(X_train)\n",
    "    train_loss_plot.append(train_loss)\n",
    "    train_acc_plot.append((num_right / len(Y_train[start:end])))\n",
    "    if train_loss <= train_loss_min:\n",
    "        print(\"Validation loss decreased ({:6f} ===> {:6f})\".format(train_loss_min,train_loss))\n",
    "        torch.save(model2.state_dict(), \"model.pt\")\n",
    "        train_loss_min = train_loss\n",
    "\n",
    "    print('')\n",
    "    print(\"Epoch: {} \\tTrain Loss: {} \\tTrain Accuracy: {}\".format(epoch+1, train_loss,num_right / len(Y_train[start:end]) ))"
   ]
  },
  {
   "cell_type": "code",
   "execution_count": 16,
   "metadata": {
    "execution": {
     "iopub.execute_input": "2020-08-28T12:04:04.820125Z",
     "iopub.status.busy": "2020-08-28T12:04:04.819188Z",
     "iopub.status.idle": "2020-08-28T12:04:05.006063Z",
     "shell.execute_reply": "2020-08-28T12:04:05.005524Z"
    },
    "papermill": {
     "duration": 0.238946,
     "end_time": "2020-08-28T12:04:05.006197",
     "exception": false,
     "start_time": "2020-08-28T12:04:04.767251",
     "status": "completed"
    },
    "tags": []
   },
   "outputs": [
    {
     "data": {
      "image/png": "[encoded data removed]",
      "text/plain": [
       "<Figure size 432x288 with 1 Axes>"
      ]
     },
     "metadata": {
      "needs_background": "light"
     },
     "output_type": "display_data"
    }
   ],
   "source": [
    "metrics=pd.DataFrame(model1.history.history)\n",
    "plt.plot(metrics['loss'], label='Keras_loss')\n",
    "plt.plot(train_loss_plot, label='PyTorch_loss')\n",
    "plt.legend()\n",
    "plt.show()"
   ]
  },
  {
   "cell_type": "code",
   "execution_count": 17,
   "metadata": {
    "execution": {
     "iopub.execute_input": "2020-08-28T12:04:05.053230Z",
     "iopub.status.busy": "2020-08-28T12:04:05.051248Z",
     "iopub.status.idle": "2020-08-28T12:04:05.207726Z",
     "shell.execute_reply": "2020-08-28T12:04:05.208366Z"
    },
    "papermill": {
     "duration": 0.184368,
     "end_time": "2020-08-28T12:04:05.208548",
     "exception": false,
     "start_time": "2020-08-28T12:04:05.024180",
     "status": "completed"
    },
    "tags": []
   },
   "outputs": [
    {
     "data": {
      "image/png": "[encoded data removed]",
      "text/plain": [
       "<Figure size 432x288 with 1 Axes>"
      ]
     },
     "metadata": {
      "needs_background": "light"
     },
     "output_type": "display_data"
    }
   ],
   "source": [
    "plt.plot(metrics['accuracy'], label='Keras_acc')\n",
    "plt.plot(train_acc_plot, label='PyTorch_acc')\n",
    "plt.legend()\n",
    "plt.show()"
   ]
  },
  {
   "cell_type": "markdown",
   "metadata": {
    "papermill": {
     "duration": 0.016895,
     "end_time": "2020-08-28T12:04:05.243923",
     "exception": false,
     "start_time": "2020-08-28T12:04:05.227028",
     "status": "completed"
    },
    "tags": []
   },
   "source": [
    "This is the difference of PyTorch and Keras. Ease of code is one of the factor for choosing Keras but on the other hand PyTorch is very flexible. Here please don't consider the accuracy level as these are not great models and both of these can achieve better accuracy by changing the hyperparameters. Now let us talk about comparison based on CNN where we will cover some left over points."
   ]
  },
  {
   "cell_type": "markdown",
   "metadata": {
    "papermill": {
     "duration": 0.016634,
     "end_time": "2020-08-28T12:04:05.277478",
     "exception": false,
     "start_time": "2020-08-28T12:04:05.260844",
     "status": "completed"
    },
    "tags": []
   },
   "source": [
    "<a id='6'></a>\n",
    "# 2. COMPARISON BASED ON CNN"
   ]
  },
  {
   "cell_type": "markdown",
   "metadata": {
    "papermill": {
     "duration": 0.016348,
     "end_time": "2020-08-28T12:04:05.310535",
     "exception": false,
     "start_time": "2020-08-28T12:04:05.294187",
     "status": "completed"
    },
    "tags": []
   },
   "source": [
    "<a id='6.1'></a>\n",
    "# Reading the data"
   ]
  },
  {
   "cell_type": "markdown",
   "metadata": {
    "papermill": {
     "duration": 0.016447,
     "end_time": "2020-08-28T12:04:05.343785",
     "exception": false,
     "start_time": "2020-08-28T12:04:05.327338",
     "status": "completed"
    },
    "tags": []
   },
   "source": [
    "As I have already told I will be using Digit Recognizer data for comparison based on CNN, so first lets read the data. "
   ]
  },
  {
   "cell_type": "code",
   "execution_count": 18,
   "metadata": {
    "execution": {
     "iopub.execute_input": "2020-08-28T12:04:05.383020Z",
     "iopub.status.busy": "2020-08-28T12:04:05.382437Z",
     "iopub.status.idle": "2020-08-28T12:04:10.164248Z",
     "shell.execute_reply": "2020-08-28T12:04:10.163411Z"
    },
    "papermill": {
     "duration": 4.80388,
     "end_time": "2020-08-28T12:04:10.164407",
     "exception": false,
     "start_time": "2020-08-28T12:04:05.360527",
     "status": "completed"
    },
    "tags": []
   },
   "outputs": [],
   "source": [
    "df2 = pd.read_csv('digit-recognizer/train.csv')\n",
    "df3 = pd.read_csv('digit-recognizer/test.csv')"
   ]
  },
  {
   "cell_type": "markdown",
   "metadata": {
    "papermill": {
     "duration": 0.034621,
     "end_time": "2020-08-28T12:04:10.247627",
     "exception": false,
     "start_time": "2020-08-28T12:04:10.213006",
     "status": "completed"
    },
    "tags": []
   },
   "source": [
    "<a id='6.2'></a>\n",
    "# Data Preparation"
   ]
  },
  {
   "cell_type": "markdown",
   "metadata": {
    "papermill": {
     "duration": 0.023893,
     "end_time": "2020-08-28T12:04:10.299302",
     "exception": false,
     "start_time": "2020-08-28T12:04:10.275409",
     "status": "completed"
    },
    "tags": []
   },
   "source": [
    "### If you want to know the details of each and every step in Keras Framework [go here](#3)."
   ]
  },
  {
   "cell_type": "markdown",
   "metadata": {
    "papermill": {
     "duration": 0.016692,
     "end_time": "2020-08-28T12:04:10.332859",
     "exception": false,
     "start_time": "2020-08-28T12:04:10.316167",
     "status": "completed"
    },
    "tags": []
   },
   "source": [
    "## Data Preparation for Keras Model"
   ]
  },
  {
   "cell_type": "code",
   "execution_count": 19,
   "metadata": {
    "execution": {
     "iopub.execute_input": "2020-08-28T12:04:10.453162Z",
     "iopub.status.busy": "2020-08-28T12:04:10.452016Z",
     "iopub.status.idle": "2020-08-28T12:04:10.990225Z",
     "shell.execute_reply": "2020-08-28T12:04:10.989630Z"
    },
    "papermill": {
     "duration": 0.640612,
     "end_time": "2020-08-28T12:04:10.990346",
     "exception": false,
     "start_time": "2020-08-28T12:04:10.349734",
     "status": "completed"
    },
    "tags": []
   },
   "outputs": [],
   "source": [
    "Y_train = df2[\"label\"]\n",
    "X_train = df2.drop(labels = [\"label\"],axis = 1).values\n",
    "\n",
    "X_train = X_train/255.0\n",
    "X_test = df3/255.0\n",
    "\n",
    "X_train = X_train.reshape(-1,28,28,1)\n",
    "X_test = X_test.values.reshape(-1,28,28,1)\n",
    "\n",
    "Y_train = to_categorical(Y_train, num_classes = 10)\n",
    "\n",
    "X_train, X_val, Y_train, Y_val = train_test_split(X_train, Y_train, test_size = 0.1, random_state=35)"
   ]
  },
  {
   "cell_type": "markdown",
   "metadata": {
    "papermill": {
     "duration": 0.01669,
     "end_time": "2020-08-28T12:04:11.024363",
     "exception": false,
     "start_time": "2020-08-28T12:04:11.007673",
     "status": "completed"
    },
    "tags": []
   },
   "source": [
    "## Data Preparation for Pytorch Model"
   ]
  },
  {
   "cell_type": "code",
   "execution_count": 20,
   "metadata": {
    "execution": {
     "iopub.execute_input": "2020-08-28T12:04:11.147240Z",
     "iopub.status.busy": "2020-08-28T12:04:11.146030Z",
     "iopub.status.idle": "2020-08-28T12:04:11.693472Z",
     "shell.execute_reply": "2020-08-28T12:04:11.694658Z"
    },
    "papermill": {
     "duration": 0.653801,
     "end_time": "2020-08-28T12:04:11.694868",
     "exception": false,
     "start_time": "2020-08-28T12:04:11.041067",
     "status": "completed"
    },
    "tags": []
   },
   "outputs": [],
   "source": [
    "targets_np = df2.label.values\n",
    "features_np = df2.loc[:, df2.columns != 'label'].values/255\n",
    "test_np = df3.values/255\n",
    "\n",
    "features_np = features_np.reshape(-1,1,28,28)\n",
    "test_np = test_np.reshape(-1,1,28,28)\n",
    "fake_labels = np.zeros(test_np.shape)\n",
    "fake_labels = torch.from_numpy(fake_labels)\n",
    "\n",
    "features_train, features_test, target_train, target_test = train_test_split(features_np, targets_np, test_size=0.1, random_state=35)\n",
    "\n",
    "featuresTrain = torch.from_numpy(features_train)\n",
    "targetsTrain = torch.from_numpy(target_train)\n",
    "\n",
    "featuresTest = torch.from_numpy(features_test)\n",
    "targetsTest = torch.from_numpy(target_test)\n",
    "\n",
    "test_data = torch.from_numpy(test_np)\n",
    "\n",
    "train = torch.utils.data.TensorDataset(featuresTrain, targetsTrain)\n",
    "test = torch.utils.data.TensorDataset(featuresTest, targetsTest)\n",
    "submission_data = torch.utils.data.TensorDataset(test_data, fake_labels)\n",
    "\n",
    "train_loader = torch.utils.data.DataLoader(train, batch_size = batch_size, shuffle = True)\n",
    "test_loader = torch.utils.data.DataLoader(test, batch_size = batch_size, shuffle = True)\n",
    "submission_loader = torch.utils.data.DataLoader(submission_data, batch_size = batch_size, shuffle = False)"
   ]
  },
  {
   "cell_type": "markdown",
   "metadata": {
    "papermill": {
     "duration": 0.016713,
     "end_time": "2020-08-28T12:04:11.729435",
     "exception": false,
     "start_time": "2020-08-28T12:04:11.712722",
     "status": "completed"
    },
    "tags": []
   },
   "source": [
    "Previously, you saw that the preprocessing steps was same for both the frameworks. But here this is not so. Initially, normalizing, reshaping and splitting the data are same for both but afterthat we have huge difference. In PyTorch we can't apply the numpy data directly but first we have to convert it in tensor then we make a tensor dataset and then combines a dataset and a sampler, and provides single- or multi-process iterators over the dataset.   "
   ]
  },
  {
   "cell_type": "markdown",
   "metadata": {
    "papermill": {
     "duration": 0.016576,
     "end_time": "2020-08-28T12:04:11.763081",
     "exception": false,
     "start_time": "2020-08-28T12:04:11.746505",
     "status": "completed"
    },
    "tags": []
   },
   "source": [
    "<a id='6.3'></a>\n",
    "# **CNN MODEL COMPARISON**\n",
    "As you saw the difference in ANN Model and now you will clearly see the difference in the CNN Model also."
   ]
  },
  {
   "cell_type": "markdown",
   "metadata": {
    "papermill": {
     "duration": 0.016594,
     "end_time": "2020-08-28T12:04:11.796441",
     "exception": false,
     "start_time": "2020-08-28T12:04:11.779847",
     "status": "completed"
    },
    "tags": []
   },
   "source": [
    "## KERAS MODEL\n",
    "### For detailed explanation of each layer and to know exactly what each layer does in the backend and also to know the perfect model to get high score [go here](#3)."
   ]
  },
  {
   "cell_type": "code",
   "execution_count": 21,
   "metadata": {
    "_cell_guid": "79c7e3d0-c299-4dcb-8224-4455121ee9b0",
    "_uuid": "d629ff2d2480ee46fbb7e2d37f6b5fab8052498a",
    "execution": {
     "iopub.execute_input": "2020-08-28T12:04:11.841907Z",
     "iopub.status.busy": "2020-08-28T12:04:11.840968Z",
     "iopub.status.idle": "2020-08-28T12:04:11.967044Z",
     "shell.execute_reply": "2020-08-28T12:04:11.966514Z"
    },
    "papermill": {
     "duration": 0.153929,
     "end_time": "2020-08-28T12:04:11.967168",
     "exception": false,
     "start_time": "2020-08-28T12:04:11.813239",
     "status": "completed"
    },
    "tags": []
   },
   "outputs": [],
   "source": [
    "model3 = Sequential()\n",
    "\n",
    "model3.add(Conv2D(filters=32, kernel_size=(5,5), padding='Same', activation='relu', input_shape=(28,28,1)))\n",
    "model3.add(BatchNormalization())\n",
    "model3.add(Conv2D(filters=32, kernel_size=(5,5), padding='Same', activation='relu'))\n",
    "model3.add(BatchNormalization())\n",
    "model3.add(MaxPool2D(pool_size=(2,2)))\n",
    "model3.add(Dropout(0.25))\n",
    "\n",
    "model3.add(Flatten())\n",
    "model3.add(Dense(256, activation='relu'))\n",
    "model3.add(BatchNormalization())\n",
    "model3.add(Dropout(0.5))\n",
    "model3.add(Dense(10, activation='softmax'))"
   ]
  },
  {
   "cell_type": "markdown",
   "metadata": {
    "papermill": {
     "duration": 0.017204,
     "end_time": "2020-08-28T12:04:12.002391",
     "exception": false,
     "start_time": "2020-08-28T12:04:11.985187",
     "status": "completed"
    },
    "tags": []
   },
   "source": [
    "## PYTORCH MODEL"
   ]
  },
  {
   "cell_type": "code",
   "execution_count": 22,
   "metadata": {
    "execution": {
     "iopub.execute_input": "2020-08-28T12:04:12.050453Z",
     "iopub.status.busy": "2020-08-28T12:04:12.049575Z",
     "iopub.status.idle": "2020-08-28T12:04:12.067862Z",
     "shell.execute_reply": "2020-08-28T12:04:12.067372Z"
    },
    "papermill": {
     "duration": 0.048686,
     "end_time": "2020-08-28T12:04:12.067954",
     "exception": false,
     "start_time": "2020-08-28T12:04:12.019268",
     "status": "completed"
    },
    "tags": []
   },
   "outputs": [],
   "source": [
    "class CNN(nn.Module):\n",
    "    def __init__(self):\n",
    "        super(CNN, self).__init__()\n",
    "        self.features = nn.Sequential(\n",
    "            nn.Conv2d(1, 32, kernel_size=(5,5), stride=1, padding=1),\n",
    "            nn.BatchNorm2d(32),\n",
    "            nn.ReLU(inplace=True),\n",
    "            nn.Conv2d(32, 32, kernel_size=(5,5), stride=1, padding=1),\n",
    "            nn.BatchNorm2d(32),\n",
    "            nn.ReLU(inplace=True),\n",
    "            nn.MaxPool2d(kernel_size=2, stride=2),\n",
    "        )\n",
    "          \n",
    "        self.classifier = nn.Sequential(\n",
    "            nn.Dropout(p = 0.5),\n",
    "            nn.Linear(32 * 12 * 12, 512),\n",
    "            nn.BatchNorm1d(512),\n",
    "            nn.ReLU(inplace=True),\n",
    "            nn.Dropout(p = 0.5),\n",
    "            nn.Linear(512, 10),\n",
    "        )\n",
    "    def forward(self, x):\n",
    "        x = self.features(x)\n",
    "        x = x.view(x.size(0), -1)\n",
    "        x = self.classifier(x)\n",
    "        \n",
    "        return x\n",
    "\n",
    "model4 = CNN()"
   ]
  },
  {
   "cell_type": "markdown",
   "metadata": {
    "papermill": {
     "duration": 0.016836,
     "end_time": "2020-08-28T12:04:12.101731",
     "exception": false,
     "start_time": "2020-08-28T12:04:12.084895",
     "status": "completed"
    },
    "tags": []
   },
   "source": [
    "<a id='6.4'></a>\n",
    "# Optimizer"
   ]
  },
  {
   "cell_type": "code",
   "execution_count": 23,
   "metadata": {
    "execution": {
     "iopub.execute_input": "2020-08-28T12:04:12.147472Z",
     "iopub.status.busy": "2020-08-28T12:04:12.143606Z",
     "iopub.status.idle": "2020-08-28T12:04:12.153338Z",
     "shell.execute_reply": "2020-08-28T12:04:12.153861Z"
    },
    "papermill": {
     "duration": 0.035439,
     "end_time": "2020-08-28T12:04:12.154013",
     "exception": false,
     "start_time": "2020-08-28T12:04:12.118574",
     "status": "completed"
    },
    "tags": []
   },
   "outputs": [],
   "source": [
    "#For Keras Model\n",
    "\n",
    "optimizer3 = RMSprop(lr=0.001, rho=0.9, epsilon=1e-08, decay=0.0)\n",
    "# Compiling our model\n",
    "model3.compile(optimizer = optimizer3 , loss = \"categorical_crossentropy\", metrics=[\"accuracy\"])\n",
    "\n",
    "#For PyTorch Model\n",
    "\n",
    "# Define the optimier\n",
    "optimizer4 = optim.RMSprop(model4.parameters(), lr=0.001)\n",
    "# Define our loss function\n",
    "criterion = nn.CrossEntropyLoss()"
   ]
  },
  {
   "cell_type": "markdown",
   "metadata": {
    "papermill": {
     "duration": 0.018786,
     "end_time": "2020-08-28T12:04:12.190218",
     "exception": false,
     "start_time": "2020-08-28T12:04:12.171432",
     "status": "completed"
    },
    "tags": []
   },
   "source": [
    "<a id='6.5'></a>\n",
    "## So we have completed all the pre processes. Now its time to train our model"
   ]
  },
  {
   "cell_type": "markdown",
   "metadata": {
    "papermill": {
     "duration": 0.017023,
     "end_time": "2020-08-28T12:04:12.224628",
     "exception": false,
     "start_time": "2020-08-28T12:04:12.207605",
     "status": "completed"
    },
    "tags": []
   },
   "source": [
    "As I previously told how this step has a huge difference. But here you will observe one difference that shows the flexibility of PyTorch and that is \"cuda()\". If we want a particular computation to be performed on the GPU, we can instruct PyTorch to do so by calling cuda() on our data structures (tensors). So this way we can apply our model on large datasets and the model can be trained on GPU very fastly."
   ]
  },
  {
   "cell_type": "code",
   "execution_count": 24,
   "metadata": {
    "execution": {
     "iopub.execute_input": "2020-08-28T12:04:12.264591Z",
     "iopub.status.busy": "2020-08-28T12:04:12.263603Z",
     "iopub.status.idle": "2020-08-28T12:05:04.047707Z",
     "shell.execute_reply": "2020-08-28T12:05:04.047132Z"
    },
    "papermill": {
     "duration": 51.806194,
     "end_time": "2020-08-28T12:05:04.047826",
     "exception": false,
     "start_time": "2020-08-28T12:04:12.241632",
     "status": "completed"
    },
    "tags": []
   },
   "outputs": [
    {
     "name": "stdout",
     "output_type": "stream",
     "text": [
      "Epoch 1/15\n",
      "591/591 [==============================] - 3s 6ms/step - loss: 0.1538 - accuracy: 0.9534 - val_loss: 0.0791 - val_accuracy: 0.9760\n",
      "Epoch 2/15\n",
      "591/591 [==============================] - 3s 6ms/step - loss: 0.0623 - accuracy: 0.9811 - val_loss: 0.0404 - val_accuracy: 0.9862\n",
      "Epoch 3/15\n",
      "591/591 [==============================] - 3s 5ms/step - loss: 0.0485 - accuracy: 0.9848 - val_loss: 0.0408 - val_accuracy: 0.9869\n",
      "Epoch 4/15\n",
      "591/591 [==============================] - 3s 5ms/step - loss: 0.0393 - accuracy: 0.9881 - val_loss: 0.0321 - val_accuracy: 0.9895\n",
      "Epoch 5/15\n",
      "591/591 [==============================] - 3s 5ms/step - loss: 0.0319 - accuracy: 0.9897 - val_loss: 0.0252 - val_accuracy: 0.9910\n",
      "Epoch 6/15\n",
      "591/591 [==============================] - 3s 5ms/step - loss: 0.0283 - accuracy: 0.9916 - val_loss: 0.0523 - val_accuracy: 0.9852\n",
      "Epoch 7/15\n",
      "591/591 [==============================] - 3s 5ms/step - loss: 0.0261 - accuracy: 0.9921 - val_loss: 0.0304 - val_accuracy: 0.9914\n",
      "Epoch 8/15\n",
      "591/591 [==============================] - 3s 5ms/step - loss: 0.0199 - accuracy: 0.9937 - val_loss: 0.0348 - val_accuracy: 0.9905\n",
      "Epoch 9/15\n",
      "591/591 [==============================] - 3s 6ms/step - loss: 0.0191 - accuracy: 0.9936 - val_loss: 0.0317 - val_accuracy: 0.9893\n",
      "Epoch 10/15\n",
      "591/591 [==============================] - 3s 5ms/step - loss: 0.0174 - accuracy: 0.9943 - val_loss: 0.0292 - val_accuracy: 0.9914\n",
      "Epoch 11/15\n",
      "591/591 [==============================] - 3s 5ms/step - loss: 0.0159 - accuracy: 0.9947 - val_loss: 0.0288 - val_accuracy: 0.9912\n",
      "Epoch 12/15\n",
      "591/591 [==============================] - 3s 6ms/step - loss: 0.0148 - accuracy: 0.9954 - val_loss: 0.0276 - val_accuracy: 0.9912\n",
      "Epoch 13/15\n",
      "591/591 [==============================] - 3s 5ms/step - loss: 0.0154 - accuracy: 0.9953 - val_loss: 0.0306 - val_accuracy: 0.9921\n",
      "Epoch 14/15\n",
      "591/591 [==============================] - 3s 5ms/step - loss: 0.0128 - accuracy: 0.9960 - val_loss: 0.0257 - val_accuracy: 0.9931\n",
      "Epoch 15/15\n",
      "591/591 [==============================] - 3s 6ms/step - loss: 0.0111 - accuracy: 0.9961 - val_loss: 0.0391 - val_accuracy: 0.9890\n"
     ]
    },
    {
     "data": {
      "text/plain": [
       "<tensorflow.python.keras.callbacks.History at 0x7fde18a09e10>"
      ]
     },
     "execution_count": 24,
     "metadata": {},
     "output_type": "execute_result"
    }
   ],
   "source": [
    "model3.fit(X_train, Y_train, batch_size=batch_size, epochs=epochs, validation_data = (X_val, Y_val))"
   ]
  },
  {
   "cell_type": "code",
   "execution_count": 25,
   "metadata": {
    "_kg_hide-output": false,
    "execution": {
     "iopub.execute_input": "2020-08-28T12:05:04.198814Z",
     "iopub.status.busy": "2020-08-28T12:05:04.190545Z",
     "iopub.status.idle": "2020-08-28T12:05:57.507022Z",
     "shell.execute_reply": "2020-08-28T12:05:57.504447Z"
    },
    "papermill": {
     "duration": 53.393718,
     "end_time": "2020-08-28T12:05:57.507211",
     "exception": false,
     "start_time": "2020-08-28T12:05:04.113493",
     "status": "completed"
    },
    "tags": []
   },
   "outputs": [
    {
     "name": "stdout",
     "output_type": "stream",
     "text": [
      "Epoch: 1/15..  Training Loss: 0.1456..  Test Loss: 0.0570..  Test Accuracy: 0.9825\n",
      "Epoch: 2/15..  Training Loss: 0.0434..  Test Loss: 0.0330..  Test Accuracy: 0.9905\n",
      "Epoch: 3/15..  Training Loss: 0.0255..  Test Loss: 0.0315..  Test Accuracy: 0.9910\n",
      "Epoch: 4/15..  Training Loss: 0.0154..  Test Loss: 0.0371..  Test Accuracy: 0.9889\n",
      "Epoch: 5/15..  Training Loss: 0.0100..  Test Loss: 0.0512..  Test Accuracy: 0.9845\n",
      "Epoch: 6/15..  Training Loss: 0.0079..  Test Loss: 0.0367..  Test Accuracy: 0.9901\n",
      "Epoch: 7/15..  Training Loss: 0.0066..  Test Loss: 0.0430..  Test Accuracy: 0.9901\n",
      "Epoch: 8/15..  Training Loss: 0.0062..  Test Loss: 0.0522..  Test Accuracy: 0.9860\n",
      "Epoch: 9/15..  Training Loss: 0.0041..  Test Loss: 0.0665..  Test Accuracy: 0.9871\n",
      "Epoch: 10/15..  Training Loss: 0.0032..  Test Loss: 0.0494..  Test Accuracy: 0.9920\n",
      "Epoch: 11/15..  Training Loss: 0.0034..  Test Loss: 0.0695..  Test Accuracy: 0.9902\n",
      "Epoch: 12/15..  Training Loss: 0.0043..  Test Loss: 0.0789..  Test Accuracy: 0.9893\n",
      "Epoch: 13/15..  Training Loss: 0.0035..  Test Loss: 0.0843..  Test Accuracy: 0.9872\n",
      "Epoch: 14/15..  Training Loss: 0.0030..  Test Loss: 0.0706..  Test Accuracy: 0.9908\n",
      "Epoch: 15/15..  Training Loss: 0.0032..  Test Loss: 0.1070..  Test Accuracy: 0.9865\n"
     ]
    }
   ],
   "source": [
    "if torch.cuda.is_available():\n",
    "    model4 = model4.cuda()\n",
    "    criterion = criterion.cuda()\n",
    "    \n",
    "model4.train()\n",
    "\n",
    "steps = 0\n",
    "print_every = 50\n",
    "train_losses, test_losses = [], []\n",
    "\n",
    "for e in range(epochs):\n",
    "    running_loss = 0\n",
    "    for images, labels in train_loader:\n",
    "        steps += 1\n",
    "        if torch.cuda.is_available():\n",
    "            images = images.cuda()\n",
    "            labels = labels.cuda()\n",
    "        # Prevent accumulation of gradients\n",
    "        optimizer4.zero_grad()\n",
    "        # Make predictions\n",
    "        log_ps = model4(images.float())\n",
    "        loss = criterion(log_ps, labels.long())\n",
    "        #backprop\n",
    "        loss.backward()\n",
    "        optimizer4.step()\n",
    "        \n",
    "        running_loss += loss.item()\n",
    "        if steps % print_every == 0:\n",
    "            test_loss = 0\n",
    "            accuracy = 0\n",
    "\n",
    "            # Turn off gradients for validation\n",
    "            with torch.no_grad():\n",
    "                model4.eval()\n",
    "                for images, labels in test_loader:\n",
    "                    if torch.cuda.is_available():\n",
    "                        images = images.cuda()\n",
    "                        labels = labels.cuda()\n",
    "                    log_ps = model4(images.float())\n",
    "                    test_loss += criterion(log_ps, labels.long())\n",
    "\n",
    "                    ps = torch.exp(log_ps)\n",
    "                    # Get our top predictions\n",
    "                    top_p, top_class = ps.topk(1, dim=1)\n",
    "                    equals = top_class == labels.view(*top_class.shape)\n",
    "                    accuracy += torch.mean(equals.type(torch.FloatTensor))\n",
    "\n",
    "    train_losses.append(running_loss/len(train_loader))\n",
    "    test_losses.append(test_loss/len(test_loader))\n",
    "\n",
    "    print(\"Epoch: {}/{}.. \".format(e+1, epochs),\n",
    "          \"Training Loss: {:.4f}.. \".format(train_losses[-1]),\n",
    "          \"Test Loss: {:.4f}.. \".format(test_losses[-1]),\n",
    "          \"Test Accuracy: {:.4f}\".format(accuracy/len(test_loader)))"
   ]
  },
  {
   "cell_type": "code",
   "execution_count": 26,
   "metadata": {
    "execution": {
     "iopub.execute_input": "2020-08-28T12:05:57.684706Z",
     "iopub.status.busy": "2020-08-28T12:05:57.678500Z",
     "iopub.status.idle": "2020-08-28T12:05:57.853615Z",
     "shell.execute_reply": "2020-08-28T12:05:57.853086Z"
    },
    "papermill": {
     "duration": 0.255418,
     "end_time": "2020-08-28T12:05:57.853721",
     "exception": false,
     "start_time": "2020-08-28T12:05:57.598303",
     "status": "completed"
    },
    "tags": []
   },
   "outputs": [
    {
     "data": {
      "image/png": "[encoded data removed]",
      "text/plain": [
       "<Figure size 432x288 with 1 Axes>"
      ]
     },
     "metadata": {
      "needs_background": "light"
     },
     "output_type": "display_data"
    }
   ],
   "source": [
    "metrics2=pd.DataFrame(model3.history.history)\n",
    "plt.plot(metrics2['loss'], label='Keras_loss')\n",
    "plt.plot(train_losses, label='PyTorch_loss')\n",
    "plt.legend()\n",
    "plt.show()"
   ]
  },
  {
   "cell_type": "code",
   "execution_count": 27,
   "metadata": {
    "execution": {
     "iopub.execute_input": "2020-08-28T12:05:58.006390Z",
     "iopub.status.busy": "2020-08-28T12:05:58.000024Z",
     "iopub.status.idle": "2020-08-28T12:05:58.177446Z",
     "shell.execute_reply": "2020-08-28T12:05:58.177922Z"
    },
    "papermill": {
     "duration": 0.256814,
     "end_time": "2020-08-28T12:05:58.178051",
     "exception": false,
     "start_time": "2020-08-28T12:05:57.921237",
     "status": "completed"
    },
    "tags": []
   },
   "outputs": [
    {
     "data": {
      "image/png": "[encoded data removed]",
      "text/plain": [
       "<Figure size 432x288 with 1 Axes>"
      ]
     },
     "metadata": {
      "needs_background": "light"
     },
     "output_type": "display_data"
    }
   ],
   "source": [
    "plt.plot(metrics2['val_loss'], label='Keras_val_loss')\n",
    "plt.plot(test_losses, label='PyTorch_val_loss')\n",
    "plt.legend()\n",
    "plt.show()"
   ]
  },
  {
   "cell_type": "markdown",
   "metadata": {
    "papermill": {
     "duration": 0.06791,
     "end_time": "2020-08-28T12:05:58.318118",
     "exception": false,
     "start_time": "2020-08-28T12:05:58.250208",
     "status": "completed"
    },
    "tags": []
   },
   "source": [
    "<a id='6.6'></a>\n",
    "# Predicting on test set"
   ]
  },
  {
   "cell_type": "code",
   "execution_count": 28,
   "metadata": {
    "execution": {
     "iopub.execute_input": "2020-08-28T12:05:58.459455Z",
     "iopub.status.busy": "2020-08-28T12:05:58.458398Z",
     "iopub.status.idle": "2020-08-28T12:05:59.615088Z",
     "shell.execute_reply": "2020-08-28T12:05:59.614574Z"
    },
    "papermill": {
     "duration": 1.229534,
     "end_time": "2020-08-28T12:05:59.615244",
     "exception": false,
     "start_time": "2020-08-28T12:05:58.385710",
     "status": "completed"
    },
    "tags": []
   },
   "outputs": [],
   "source": [
    "results = model3.predict(X_test)"
   ]
  },
  {
   "cell_type": "code",
   "execution_count": 29,
   "metadata": {
    "execution": {
     "iopub.execute_input": "2020-08-28T12:05:59.755805Z",
     "iopub.status.busy": "2020-08-28T12:05:59.754625Z",
     "iopub.status.idle": "2020-08-28T12:05:59.767510Z",
     "shell.execute_reply": "2020-08-28T12:05:59.768574Z"
    },
    "papermill": {
     "duration": 0.087274,
     "end_time": "2020-08-28T12:05:59.768749",
     "exception": false,
     "start_time": "2020-08-28T12:05:59.681475",
     "status": "completed"
    },
    "tags": []
   },
   "outputs": [],
   "source": [
    "def make_prediction(data):\n",
    "    images, labels = next(iter(data))\n",
    "    if torch.cuda.is_available():\n",
    "        images = images.cuda()\n",
    "        labels = labels.cuda()\n",
    "\n",
    "    img = images\n",
    "    # Turn off gradients to speed up this part\n",
    "    with torch.no_grad():\n",
    "        logps = model4(images.float())\n",
    "\n",
    "    ps = torch.exp(logps)\n",
    "make_prediction(submission_loader)"
   ]
  },
  {
   "cell_type": "markdown",
   "metadata": {
    "papermill": {
     "duration": 0.113046,
     "end_time": "2020-08-28T12:05:59.987505",
     "exception": false,
     "start_time": "2020-08-28T12:05:59.874459",
     "status": "completed"
    },
    "tags": []
   },
   "source": [
    "Similar to the previous model, here also you can observe the difference of ease of code and simplicity. But in this case you can also observe the flexibility and the speed of PyTorch model. Again here I am saying please don't compare the accuracy as these are not perfect models and we can achieve very high accuracy using any of the frameworks. "
   ]
  },
  {
   "cell_type": "markdown",
   "metadata": {
    "papermill": {
     "duration": 0.11553,
     "end_time": "2020-08-28T12:06:00.204498",
     "exception": false,
     "start_time": "2020-08-28T12:06:00.088968",
     "status": "completed"
    },
    "tags": []
   },
   "source": [
    "<a id='7'></a>\n",
    "# When to use which?\n",
    "Now the last thing which is left is when to use which framework.<br>\n",
    "Although after comparing so many things we still can't say which is better. Each one have its pros and cons and it ultimately depends on your need and expectations.Some suitable situations to use:-\n",
    "<ul>\n",
    "    <li><h2>Keras:-</h2></li>\n",
    "    <ol>\n",
    "        <li>Quick Prototype</li>\n",
    "        <li>Small dataset</li>\n",
    "        <li>Best for begineers</li>\n",
    "    </ol>\n",
    "    <li><h2>PyTorch:-</h2></li>\n",
    "    <ol>\n",
    "        <li>Flexibility</li>\n",
    "        <li>Large dataset</li>\n",
    "        <li>Fast Speed</li>\n",
    "        <li>Debugging Capabilities</li>\n",
    "    </ol>\n",
    "<ul>\n",
    "    \n",
    "        "
   ]
  },
  {
   "cell_type": "markdown",
   "metadata": {
    "papermill": {
     "duration": 0.082676,
     "end_time": "2020-08-28T12:06:00.396228",
     "exception": false,
     "start_time": "2020-08-28T12:06:00.313552",
     "status": "completed"
    },
    "tags": []
   },
   "source": [
    "<a id='8'></a>\n",
    "# Bonus Part(Digit Recognizer)\n",
    "To achieve a very high score of this Digit Recognizer competition, if you want to use Keras framework then [go here](#3). For PyTorch Model I have not created any notebook so I have written the code here:-"
   ]
  },
  {
   "cell_type": "code",
   "execution_count": 30,
   "metadata": {
    "execution": {
     "iopub.execute_input": "2020-08-28T12:06:00.549824Z",
     "iopub.status.busy": "2020-08-28T12:06:00.548999Z",
     "iopub.status.idle": "2020-08-28T12:06:00.551703Z",
     "shell.execute_reply": "2020-08-28T12:06:00.552158Z"
    },
    "papermill": {
     "duration": 0.086006,
     "end_time": "2020-08-28T12:06:00.552338",
     "exception": false,
     "start_time": "2020-08-28T12:06:00.466332",
     "status": "completed"
    },
    "tags": []
   },
   "outputs": [],
   "source": [
    "class CNN_2(nn.Module):\n",
    "    def __init__(self):\n",
    "        super(CNN, self).__init__()\n",
    "        self.features = nn.Sequential(\n",
    "            nn.Conv2d(1, 32, kernel_size=3, stride=1, padding=1),\n",
    "            nn.BatchNorm2d(32),\n",
    "            nn.ReLU(inplace=True),\n",
    "            nn.Conv2d(32, 32, kernel_size=3, stride=1, padding=1),\n",
    "            nn.BatchNorm2d(32),\n",
    "            nn.ReLU(inplace=True),\n",
    "            nn.MaxPool2d(kernel_size=2, stride=2),\n",
    "            nn.Conv2d(32, 64, kernel_size=3, padding=1),\n",
    "            nn.BatchNorm2d(64),\n",
    "            nn.ReLU(inplace=True),\n",
    "            nn.Conv2d(64, 64, kernel_size=3, padding=1),\n",
    "            nn.BatchNorm2d(64),\n",
    "            nn.ReLU(inplace=True),\n",
    "            nn.MaxPool2d(kernel_size=2, stride=2)\n",
    "        )\n",
    "          \n",
    "        self.classifier = nn.Sequential(\n",
    "            nn.Dropout(p = 0.5),\n",
    "            nn.Linear(64 * 7 * 7, 512),\n",
    "            nn.BatchNorm1d(512),\n",
    "            nn.ReLU(inplace=True),\n",
    "            nn.Dropout(p = 0.5),\n",
    "            nn.Linear(512, 512),\n",
    "            nn.BatchNorm1d(512),\n",
    "            nn.ReLU(inplace=True),\n",
    "            nn.Dropout(p = 0.5),\n",
    "            nn.Linear(512, 10),\n",
    "        )\n",
    "    def forward(self, x):\n",
    "        x = self.features(x)\n",
    "        x = x.view(x.size(0), -1)\n",
    "        x = self.classifier(x)\n",
    "        \n",
    "        return x"
   ]
  },
  {
   "cell_type": "markdown",
   "metadata": {
    "papermill": {
     "duration": 0.07498,
     "end_time": "2020-08-28T12:06:00.694560",
     "exception": false,
     "start_time": "2020-08-28T12:06:00.619580",
     "status": "completed"
    },
    "tags": []
   },
   "source": [
    "<a id='9'></a>\n",
    "# Ending Notes\n",
    "So here we come to an end to a long comparison between the two most famous deep learning frameworks. I hope now you will be able to select the correct framework according to your need.<br>\n",
    "\n",
    "I hope that this notebook will not only help you for comparison but also it will help you in the coding part for both the Keras and PyTorch users. <br>\n",
    "\n",
    "As I already told for much detailed information for non deep learning based method on Titanic dataset and for CNN explanation using Keras you can refer my other two notebooks, [go here](#3).<br>\n",
    "\n",
    "<font color='red'><h3>Thanks a lot for having a look at this notebook.</h3></font>\n",
    "\n",
    "\n",
    "\n"
   ]
  },
  {
   "cell_type": "code",
   "execution_count": null,
   "metadata": {},
   "outputs": [],
   "source": []
  }
 ],
 "metadata": {
  "kernelspec": {
   "display_name": "Python 3",
   "language": "python",
   "name": "python3"
  },
  "language_info": {
   "codemirror_mode": {
    "name": "ipython",
    "version": 3
   },
   "file_extension": ".py",
   "mimetype": "text/x-python",
   "name": "python",
   "nbconvert_exporter": "python",
   "pygments_lexer": "ipython3",
   "version": "3.7.6"
  },
  "papermill": {
   "duration": 143.91086,
   "end_time": "2020-08-28T12:06:02.756846",
   "environment_variables": {},
   "exception": null,
   "input_path": "__notebook__.ipynb",
   "output_path": "__notebook__.ipynb",
   "parameters": {},
   "start_time": "2020-08-28T12:03:38.845986",
   "version": "2.1.0"
  }
 },
 "nbformat": 4,
 "nbformat_minor": 4
}
